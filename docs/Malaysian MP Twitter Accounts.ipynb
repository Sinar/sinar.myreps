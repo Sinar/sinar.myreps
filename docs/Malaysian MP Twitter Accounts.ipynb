{
 "cells": [
  {
   "cell_type": "markdown",
   "metadata": {},
   "source": [
    "Let's get a list of all of our MPs first"
   ]
  },
  {
   "cell_type": "code",
   "execution_count": 1,
   "metadata": {
    "collapsed": false
   },
   "outputs": [],
   "source": [
    "import requests\n",
    "import json\n",
    "\n",
    "#Dewan Rakyat MP Posts in Sinar Malaysia Popit Database\n",
    "\n",
    "dewan_rakyat_request = requests.get('https://sinar-malaysia.popit.mysociety.org/api/v0.1/organizations/53633b5a19ee29270d8a9ecf')\n",
    "\n",
    "posts = json.loads(dewan_rakyat_request.content)['result']['memberships']"
   ]
  },
  {
   "cell_type": "markdown",
   "metadata": {},
   "source": [
    "Now we will load up information on the MPs holding these posts"
   ]
  },
  {
   "cell_type": "code",
   "execution_count": 5,
   "metadata": {
    "collapsed": false
   },
   "outputs": [],
   "source": [
    "MP_ids = []\n",
    "\n",
    "#Current MPs should not have any end dates\n",
    "for member in posts:\n",
    "    #db not always clean, making sure either no end_date or empty value\n",
    "    \n",
    "    if member.has_key('end_date'):\n",
    "        if member['end_date'] == '':\n",
    "            MP_ids.append(member['person_id'])\n",
    "            \n",
    "    if not member.has_key('end_date'):\n",
    "        MP_ids.append(member['person_id'])\n",
    "        \n",
    "#There are some bad data during automated import from GE13 results.\n",
    "#This will be cleaned up in a few weeks, but we check for duplicates just in case.\n",
    "#There should only ever be 1 person holding 1 post at a moment in time.\n",
    "\n",
    "def uniq(seq):\n",
    "    #http://www.peterbe.com/plog/uniqifiers-benchmark\n",
    "    seen = set()\n",
    "    seen_add = seen.add\n",
    "    return [ x for x in seq if not (x in seen or seen_add(x))]\n",
    "\n",
    "def person(person_id):\n",
    "    #Load up information of persons from Popit database\n",
    "    req = requests.get('https://sinar-malaysia.popit.mysociety.org/api/v0.1/persons/' + person_id)\n",
    "    return json.loads(req.content)['result']\n",
    "\n",
    "MP_ids = uniq(MP_ids)\n",
    "\n",
    "#Pull down the data of current MPs from Popit Database\n",
    "MPs = []\n",
    "for id in MP_ids:\n",
    "    person_data = person(id)\n",
    "    if person_data.has_key('contact_details'):\n",
    "        for contact in person_data['contact_details']:\n",
    "            if contact['type']=='twitter':\n",
    "                MPs.append((person_data['name'],contact['value']))\n",
    "\n",
    "\n",
    "\n",
    "    "
   ]
  },
  {
   "cell_type": "code",
   "execution_count": 8,
   "metadata": {
    "collapsed": false
   },
   "outputs": [
    {
     "data": {
      "text/plain": [
       "[(u'Wong Chen', u'WongChenPKR'),\n",
       " (u'Ong Kian Ming', u'imokman'),\n",
       " (u'Tengku Adnan Tengku Mansor', u'tengkuadnanreal'),\n",
       " (u'Liew Chin Tong', u'LiewChinTong'),\n",
       " (u'Abdul Hadi Bin Awang', u'abdulhadiawang'),\n",
       " (u'Tan Seng Giaw', u'senggiaw'),\n",
       " (u'Tan Kee Kwong', u'tankeekwong'),\n",
       " (u'Aziz Kaprawi', u'akaprawi'),\n",
       " (u'Hishammuddin Hussein', u'HishammuddinH2O'),\n",
       " (u'Ahmad Maslan', u'ahmadmaslan'),\n",
       " (u'Maximus Ongkili', u'mpkotamarudu'),\n",
       " (u'Rosnah Abdul Rashid Shirlin', u'Rosnah_ARS'),\n",
       " (u'Ewon Ebin', u'EwonEbin'),\n",
       " (u'Mohd Shafie Apdal', u'mohdshafieapdal'),\n",
       " (u'Che Rosli Bin Che Mat', u'drcherosli'),\n",
       " (u'Nancy Shukri', u'nancyshukri'),\n",
       " (u'Joseph Salang Gandum', u'joseph_salang'),\n",
       " (u'Tengku Razaleigh Hamzah', u'razaleigh'),\n",
       " (u'Sim Chee Keong', u'scheekeong'),\n",
       " (u'Kasthuriraani Patto', u'kasthuripatto'),\n",
       " (u'Zairil Khir Johari', u'zairilkj'),\n",
       " (u'Najib Tun Razak', u'najibrazak'),\n",
       " (u'Gobind Singh Deo', u'GobindSinghDeo'),\n",
       " (u'Khalid Abdul Samad', u'khalidsamad'),\n",
       " (u'Sivarasa Rasiah', u'SivarasaRasiah'),\n",
       " (u'Abdul Khalid Ibrahim', u'khalid_ibrahim'),\n",
       " (u'Mohamed Hanipa Maidin', u'hanipamaidin'),\n",
       " (u'Chua Tian Chang', u'tianchua'),\n",
       " (u'Lim Lip Eng', u'limlipeng'),\n",
       " (u'Johari Abdul Ghani', u'joharighani_ttw'),\n",
       " (u'Nurul Izzah Anwar', u'n_izzah'),\n",
       " (u'Teresa Kok Suh Sim', u'teresakok'),\n",
       " (u'Loke Siew Fook', u'anthonyloke'),\n",
       " (u'Hasan Malek', u'datohasanmalek'),\n",
       " (u'Teo Kok Seong', u'teokokseong'),\n",
       " (u'Khairy Jamaluddin Abu Bakar', u'Khairykj'),\n",
       " (u'Shaziman Abu Mansor', u'shazimanmansor'),\n",
       " (u'Mas Ermieyati Samsudin', u'emysamsudin'),\n",
       " (u'Abu Bakar Mohamad Diah', u'DatukDrAbuBakar'),\n",
       " (u'Shamsul Iskandar Mohd Akin', u'shamsuliskandar'),\n",
       " (u'Subramaniam K.V. Sathasivam', u'kvssubra'),\n",
       " (u'Anuar Abdul Manap', u'pm_anuar'),\n",
       " (u'Chua Tee Yong', u'chuaty'),\n",
       " (u'Muhyiddin Yassin', u'muhyiddinyassin'),\n",
       " (u'Hamim Samuri', u'hamimsamuri'),\n",
       " (u'Er Teck Hwa', u'erteckhwa'),\n",
       " (u'Razali Ibrahim', u'razaliibrahim'),\n",
       " (u'Wee Ka Siong', u'weekasiongmp'),\n",
       " (u'Khoo Soo Seang', u'khoosooseang'),\n",
       " (u'Normala Abdul Samad', u'normalasamad'),\n",
       " (u'Lim Kit Siang', u'limkitsiang'),\n",
       " (u'Teo Nie Ching', u'teonieching'),\n",
       " (u'Idris Jusoh', u'idrisjusoh'),\n",
       " (u'Wong Sze Phin', u'jimmyspw'),\n",
       " (u'Madius Tangau', u'mtangau'),\n",
       " (u'Jumat Idris', u'datukjumat'),\n",
       " (u'Abdul Rahman Dahlan', u'mpkotabelud'),\n",
       " (u'Anifah Aman', u'anifah_aman'),\n",
       " (u'Azizah Mohd Dun', u'azizahmohddun'),\n",
       " (u'Ronald Kiandee', u'rkiandee'),\n",
       " (u'Bung Mokhtar Radin', u'mykinabatangan'),\n",
       " (u'Yap Kain Ching', u'maryyapkc'),\n",
       " (u'Wan Junaidi Tuanku Jaafar', u'drwan_junaidi'),\n",
       " (u'Fadillah Yusof', u'petrajayamp'),\n",
       " (u'Nawawi Ahmad', u'nawawikawi'),\n",
       " (u'Hee Loy Sian', u'heeloysian'),\n",
       " (u'Tony Pua Kiam Wee', u'tonypua'),\n",
       " (u'Julian Tan Kok Ping', u'Juliantkp'),\n",
       " (u'Rohani Abdul Karim', u'hjhrohanikarim'),\n",
       " (u'Douglas Uggah Embas', u'uggahembas'),\n",
       " (u'Alice Lau Kiong Yieng', u'alicelky'),\n",
       " (u'Oscar Ling Chai Yew', u'oscar_ling'),\n",
       " (u'Joseph Entulu Belaun', u'josephEB_myg'),\n",
       " (u'N Surendran A/L K Nagarajan', u'nsurendrann')]"
      ]
     },
     "execution_count": 8,
     "metadata": {},
     "output_type": "execute_result"
    }
   ],
   "source": [
    "MPs"
   ]
  },
  {
   "cell_type": "code",
   "execution_count": null,
   "metadata": {
    "collapsed": true
   },
   "outputs": [],
   "source": []
  }
 ],
 "metadata": {
  "kernelspec": {
   "display_name": "Python 2",
   "language": "python",
   "name": "python2"
  },
  "language_info": {
   "codemirror_mode": {
    "name": "ipython",
    "version": 2
   },
   "file_extension": ".py",
   "mimetype": "text/x-python",
   "name": "python",
   "nbconvert_exporter": "python",
   "pygments_lexer": "ipython2",
   "version": "2.7.9"
  }
 },
 "nbformat": 4,
 "nbformat_minor": 0
}
