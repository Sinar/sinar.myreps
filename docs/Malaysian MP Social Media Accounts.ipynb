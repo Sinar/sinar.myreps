{
 "cells": [
  {
   "cell_type": "markdown",
   "metadata": {},
   "source": [
    "Let's get a list of all of our MPs first"
   ]
  },
  {
   "cell_type": "code",
   "execution_count": 1,
   "metadata": {
    "collapsed": false
   },
   "outputs": [],
   "source": [
    "import requests\n",
    "import json\n",
    "\n",
    "#Dewan Rakyat MP Posts in Sinar Malaysia Popit Database\n",
    "\n",
    "dewan_rakyat_request = requests.get('https://sinar-malaysia.popit.mysociety.org/api/v0.1/organizations/53633b5a19ee29270d8a9ecf')\n",
    "\n",
    "posts = json.loads(dewan_rakyat_request.content)['result']['memberships']"
   ]
  },
  {
   "cell_type": "markdown",
   "metadata": {},
   "source": [
    "Now we will load up information on the MPs holding these posts"
   ]
  },
  {
   "cell_type": "code",
   "execution_count": 2,
   "metadata": {
    "collapsed": false
   },
   "outputs": [],
   "source": [
    "MP_ids = []\n",
    "\n",
    "#Current MPs should not have any end dates\n",
    "for member in posts:\n",
    "    #db not always clean, making sure either no end_date or empty value\n",
    "    \n",
    "    if member.has_key('end_date'):\n",
    "        if member['end_date'] == '':\n",
    "            MP_ids.append(member['person_id'])\n",
    "            \n",
    "    if not member.has_key('end_date'):\n",
    "        MP_ids.append(member['person_id'])\n",
    "        \n",
    "#There are some bad data during automated import from GE13 results.\n",
    "#This will be cleaned up in a few weeks, but we check for duplicates just in case.\n",
    "#There should only ever be 1 person holding 1 post at a moment in time.\n",
    "\n",
    "def uniq(seq):\n",
    "    #http://www.peterbe.com/plog/uniqifiers-benchmark\n",
    "    seen = set()\n",
    "    seen_add = seen.add\n",
    "    return [ x for x in seq if not (x in seen or seen_add(x))]\n",
    "\n",
    "def person(person_id):\n",
    "    #Load up information of persons from Popit database\n",
    "    req = requests.get('https://sinar-malaysia.popit.mysociety.org/api/v0.1/persons/' + person_id)\n",
    "    return json.loads(req.content)['result']\n",
    "\n",
    "MP_ids = uniq(MP_ids)\n",
    "\n",
    "#Pull down the data of current MPs from Popit Database\n",
    "MP_Twitter = []\n",
    "MP_Facebook = []\n",
    "\n",
    "for id in MP_ids:\n",
    "    person_data = person(id)\n",
    "    if person_data.has_key('contact_details'):\n",
    "        for contact in person_data['contact_details']:\n",
    "            if contact['type']=='twitter':\n",
    "                MP_Twitter.append((person_data['name'],contact['value']))\n",
    "            if contact['type']=='facebook':\n",
    "                MP_Facebook.append((person_data['name'],contact['value']))\n",
    "\n",
    "\n",
    "\n",
    "    "
   ]
  },
  {
   "cell_type": "code",
   "execution_count": 4,
   "metadata": {
    "collapsed": false
   },
   "outputs": [
    {
     "data": {
      "text/plain": [
       "[(u'Wong Chen', u'WongChenPKR'),\n",
       " (u'Ong Kian Ming', u'imokman'),\n",
       " (u'Tengku Adnan Tengku Mansor', u'tengkuadnanreal'),\n",
       " (u'Liew Chin Tong', u'LiewChinTong'),\n",
       " (u'Abdul Hadi Bin Awang', u'abdulhadiawang'),\n",
       " (u'Tan Seng Giaw', u'senggiaw'),\n",
       " (u'Tan Kee Kwong', u'tankeekwong'),\n",
       " (u'Aziz Kaprawi', u'akaprawi'),\n",
       " (u'Hishammuddin Hussein', u'HishammuddinH2O'),\n",
       " (u'Ahmad Maslan', u'ahmadmaslan'),\n",
       " (u'Maximus Ongkili', u'mpkotamarudu'),\n",
       " (u'Rosnah Abdul Rashid Shirlin', u'Rosnah_ARS'),\n",
       " (u'Ewon Ebin', u'EwonEbin'),\n",
       " (u'Mohd Shafie Apdal', u'mohdshafieapdal'),\n",
       " (u'Che Rosli Bin Che Mat', u'drcherosli'),\n",
       " (u'Nancy Shukri', u'nancyshukri'),\n",
       " (u'Joseph Salang Gandum', u'joseph_salang'),\n",
       " (u'Tengku Razaleigh Hamzah', u'razaleigh'),\n",
       " (u'Sim Chee Keong', u'scheekeong'),\n",
       " (u'Kasthuriraani Patto', u'kasthuripatto'),\n",
       " (u'Zairil Khir Johari', u'zairilkj'),\n",
       " (u'Najib Tun Razak', u'najibrazak'),\n",
       " (u'Gobind Singh Deo', u'GobindSinghDeo'),\n",
       " (u'Khalid Abdul Samad', u'khalidsamad'),\n",
       " (u'Sivarasa Rasiah', u'SivarasaRasiah'),\n",
       " (u'Abdul Khalid Ibrahim', u'khalid_ibrahim'),\n",
       " (u'Mohamed Hanipa Maidin', u'hanipamaidin'),\n",
       " (u'Chua Tian Chang', u'tianchua'),\n",
       " (u'Lim Lip Eng', u'limlipeng'),\n",
       " (u'Johari Abdul Ghani', u'joharighani_ttw'),\n",
       " (u'Nurul Izzah Anwar', u'n_izzah'),\n",
       " (u'Teresa Kok Suh Sim', u'teresakok'),\n",
       " (u'Loke Siew Fook', u'anthonyloke'),\n",
       " (u'Hasan Malek', u'datohasanmalek'),\n",
       " (u'Teo Kok Seong', u'teokokseong'),\n",
       " (u'Khairy Jamaluddin Abu Bakar', u'Khairykj'),\n",
       " (u'Shaziman Abu Mansor', u'shazimanmansor'),\n",
       " (u'Mas Ermieyati Samsudin', u'emysamsudin'),\n",
       " (u'Abu Bakar Mohamad Diah', u'DatukDrAbuBakar'),\n",
       " (u'Shamsul Iskandar Mohd Akin', u'shamsuliskandar'),\n",
       " (u'Subramaniam K.V. Sathasivam', u'kvssubra'),\n",
       " (u'Anuar Abdul Manap', u'pm_anuar'),\n",
       " (u'Chua Tee Yong', u'chuaty'),\n",
       " (u'Muhyiddin Yassin', u'muhyiddinyassin'),\n",
       " (u'Hamim Samuri', u'hamimsamuri'),\n",
       " (u'Er Teck Hwa', u'erteckhwa'),\n",
       " (u'Razali Ibrahim', u'razaliibrahim'),\n",
       " (u'Wee Ka Siong', u'weekasiongmp'),\n",
       " (u'Khoo Soo Seang', u'khoosooseang'),\n",
       " (u'Normala Abdul Samad', u'normalasamad'),\n",
       " (u'Lim Kit Siang', u'limkitsiang'),\n",
       " (u'Teo Nie Ching', u'teonieching'),\n",
       " (u'Idris Jusoh', u'idrisjusoh'),\n",
       " (u'Wong Sze Phin', u'jimmyspw'),\n",
       " (u'Madius Tangau', u'mtangau'),\n",
       " (u'Jumat Idris', u'datukjumat'),\n",
       " (u'Abdul Rahman Dahlan', u'mpkotabelud'),\n",
       " (u'Anifah Aman', u'anifah_aman'),\n",
       " (u'Azizah Mohd Dun', u'azizahmohddun'),\n",
       " (u'Ronald Kiandee', u'rkiandee'),\n",
       " (u'Bung Mokhtar Radin', u'mykinabatangan'),\n",
       " (u'Yap Kain Ching', u'maryyapkc'),\n",
       " (u'Wan Junaidi Tuanku Jaafar', u'drwan_junaidi'),\n",
       " (u'Fadillah Yusof', u'petrajayamp'),\n",
       " (u'Nawawi Ahmad', u'nawawikawi'),\n",
       " (u'Hee Loy Sian', u'heeloysian'),\n",
       " (u'Tony Pua Kiam Wee', u'tonypua'),\n",
       " (u'Julian Tan Kok Ping', u'Juliantkp'),\n",
       " (u'Rohani Abdul Karim', u'hjhrohanikarim'),\n",
       " (u'Douglas Uggah Embas', u'uggahembas'),\n",
       " (u'Alice Lau Kiong Yieng', u'alicelky'),\n",
       " (u'Oscar Ling Chai Yew', u'oscar_ling'),\n",
       " (u'Joseph Entulu Belaun', u'josephEB_myg'),\n",
       " (u'N Surendran A/L K Nagarajan', u'nsurendrann')]"
      ]
     },
     "execution_count": 4,
     "metadata": {},
     "output_type": "execute_result"
    }
   ],
   "source": [
    "MP_Twitter"
   ]
  },
  {
   "cell_type": "code",
   "execution_count": 5,
   "metadata": {
    "collapsed": false
   },
   "outputs": [
    {
     "data": {
      "text/plain": [
       "[(u'Wong Chen', u'wongchenpkr'),\n",
       " (u'Ong Kian Ming', u'ongkianming'),\n",
       " (u'Tan Kok Wai', u'mptankokwai'),\n",
       " (u'Tengku Adnan Tengku Mansor', u'officialkunan'),\n",
       " (u'Liew Chin Tong', u'liewchintong.my'),\n",
       " (u'Abdul Hadi Bin Awang', u'abdulhadiawang'),\n",
       " (u'Tan Seng Giaw', u'Tan-Seng-Giaw-\\u9648\\u80dc\\u5c27/188578847839319'),\n",
       " (u'Tan Kee Kwong', u'Tankeekwong'),\n",
       " (u'Ahmad Fauzi Zahari', u'DatoAhmadFauziZahari'),\n",
       " (u'Mohamed Isa Abdul Samad', u'isasamad'),\n",
       " (u'Sim Tong Him', u'SimTongHimchenTongQin'),\n",
       " (u'Aziz Kaprawi', u'pages/Aziz-Kaprawi/708746809179782'),\n",
       " (u'Hishammuddin Hussein', u'HishammuddinH2O'),\n",
       " (u'Noor Ehsanuddin Mohd Harun Narrashid', u'MesraKotaTinggi'),\n",
       " (u'Ahmad Maslan', u'ahmadmaslan'),\n",
       " (u'Rosnah Abdul Rashid Shirlin',\n",
       "  u'pages/Rosnah-Abdul-Rashid-Shirlin/125957797477479'),\n",
       " (u'Ewon Ebin', u'pages/Datuk-Dr-Ewon-Ebin/1424134421136752'),\n",
       " (u'Mohd Shafie Apdal', u'pages/Shafie-Apdal-Official/455014837852949'),\n",
       " (u'Che Rosli Bin Che Mat', u'YBdrCheRosli'),\n",
       " (u'Nancy Shukri', u'hajahnancyshukri'),\n",
       " (u'William Mawan Ikom', u'pages/Tan-Sri-William-Mawan-Ikom/274287065936919'),\n",
       " (u'Joseph Salang Gandum', u'pages/Joseph-Salang-Gandum/111340798941983'),\n",
       " (u'Johari Abdul', u'johari.b.abdul'),\n",
       " (u'Tengku Razaleigh Hamzah', u'tengku.razaleighhamzah'),\n",
       " (u'Tiong King Sing',\n",
       "  u'pages/Datuk-Seri-Tiong-King-Sing-\\u62ff\\u7763\\u65af\\u91cc\\u5f20\\u5e86\\u4fe1/904596852885487'),\n",
       " (u'Ahmad Lai Bujang', u'pages/Haji-Ahmad-Lai-Bin-Bujang/108765849247814'),\n",
       " (u'Sim Chee Keong', u'StevenSimCK'),\n",
       " (u'Kasthuriraani Patto', u'kasthuripatto'),\n",
       " (u'Zairil Khir Johari', u'ZairilKJ'),\n",
       " (u'Najib Tun Razak', u'najibrazak'),\n",
       " (u'Gobind Singh Deo', u'gobindsinghdeo'),\n",
       " (u'Khalid Abdul Samad', u'khalidsamad'),\n",
       " (u'Nik Mohamad Abduh Bin Nik Abdul Aziz', u'nik.abduh'),\n",
       " (u'Yap Pian Hon', u'yappianhon'),\n",
       " (u'Sivarasa Rasiah', u'ybsivarasa'),\n",
       " (u'Abdul Khalid Ibrahim', u'Abdul-Khalid-Ibrahim/38012338900'),\n",
       " (u'Chua Tian Chang', u'chuatianchang'),\n",
       " (u'Lim Lip Eng', u'limlipengOfficialPage'),\n",
       " (u'Johari Abdul Ghani', u'JohariTitiwangsa'),\n",
       " (u'Nurul Izzah Anwar', u'nurulizzahanwar'),\n",
       " (u'Teresa Kok Suh Sim', u'TeresaKokSuhSim'),\n",
       " (u'Zainudin Ismail', u'YB-Hj-Zainudin-Hj-Ismail-P126-Jelebu/696882973720214'),\n",
       " (u'Loke Siew Fook', u'Anthony-Loke-Siew-Fook/129323924541?fref=nf'),\n",
       " (u'Hasan Malek', u'YB.Dato.Sri.Hasan.Malek'),\n",
       " (u'Teo Kok Seong', u'teokokseong'),\n",
       " (u'Khairy Jamaluddin Abu Bakar', u'Khairykj'),\n",
       " (u'Shaziman Abu Mansor', u'pages/Shaziman-Bin-Abu-Mansor/192745604082313'),\n",
       " (u'Mas Ermieyati Samsudin', u'masermieyatisamsudin'),\n",
       " (u'Koh Nai Kwong', u'pages/KOH-NAI-KWONG/1422280121336238'),\n",
       " (u'Abu Bakar Mohamad Diah', u'DatukProfAbuBakar'),\n",
       " (u'Shamsul Iskandar Mohd Akin', u'ShamsulIskandarMohdAkin'),\n",
       " (u'Ahmad Hamzah', u'pages/YB-Datuk-Wira-Hj-Ahmad-bin-Hamzah/141510279275219'),\n",
       " (u'Subramaniam K.V. Sathasivam', u'Dr.S.Subramaniam'),\n",
       " (u'Anuar Abdul Manap', u'anuarmanapsekijang'),\n",
       " (u'Chua Tee Yong', u'ChuaTeeYong'),\n",
       " (u'Muhyiddin Yassin', u'pages/Muhyiddin-Yassin/112183975526837'),\n",
       " (u'Hamim Samuri', u'HamimLedang'),\n",
       " (u'Er Teck Hwa', u'erteckhwa'),\n",
       " (u'Razali Ibrahim', u'dato.r.ibrahim'),\n",
       " (u'Noraini Ahmad', u'ParlimenParitSulongdatonoraini'),\n",
       " (u'Wee Ka Siong', u'weekasiong'),\n",
       " (u'Mohd Idris Jusi', u'IdrisJusi'),\n",
       " (u'Abdul Latiff Ahmad', u'DrAbdulLatiffAhmad'),\n",
       " (u'Halimah Mohamed Sadique', u'tenggafap155'),\n",
       " (u'Azalina Othman Said', u'pages/Azalina-Othman/36136457050'),\n",
       " (u'Khoo Soo Seang', u'khoosooseang'),\n",
       " (u'Lim Kit Siang', u'limkitsiang'),\n",
       " (u'Teo Nie Ching', u'TeoNieChing'),\n",
       " (u'Wee Jeck Seng', u'weejeckseng'),\n",
       " (u'Idris Jusoh', u'datoseriidrisjusoh'),\n",
       " (u'Madius Tangau', u'Madiustangau'),\n",
       " (u'Jumat Idris', u'jumat.idris.3'),\n",
       " (u'Abdul Rahman Dahlan', u'rahmandahlan.my'),\n",
       " (u'Ignatius Dorell Leiking', u'MP.Penampang'),\n",
       " (u'Anifah Aman', u'anifahaman2'),\n",
       " (u'Azizah Mohd Dun', u'pages/Azizah-Dun/108644619201398'),\n",
       " (u'Joseph Kurup', u'pages/Joseph-Kurup/110676225677185'),\n",
       " (u'Bung Mokhtar Radin', u'pages/Bung-Mokhtar-Radin/212518438770582'),\n",
       " (u'Yap Kain Ching', u'maryykc'),\n",
       " (u'Nogeh Anak Gumbek',\n",
       "  u'pages/YB-Tuan-Anthony-Nogeh-Gumbek/1541953612750393'),\n",
       " (u'Wan Junaidi Tuanku Jaafar',\n",
       "  u'pages/Drhaji-Wan-Junaidi-Tuanku-Jaafar/346539785449311'),\n",
       " (u'Fadillah Yusof', u'fadillah.yusof'),\n",
       " (u'Chong Chieng Jen', u'ChongChiengJen'),\n",
       " (u'Nawawi Ahmad', u'nawikawifb'),\n",
       " (u'Hee Loy Sian', u'HeeLoySian'),\n",
       " (u'Tony Pua Kiam Wee', u'MPTonyPua'),\n",
       " (u'Julian Tan Kok Ping', u'JulianTanKokPing'),\n",
       " (u'Rubiah Wang', u'pages/P197-Kota-Samarahan/560456373976758'),\n",
       " (u'James Dawos Mamit', u'pages/James-Dawos-Mamit/178296152214842'),\n",
       " (u'Richard Riot Jaem', u'pages/Richard-Riot-Jaem/148954378497570'),\n",
       " (u'Rohani Abdul Karim', u'pages/Rohani-Abdul-Karim/336467416395357'),\n",
       " (u'Masir Kujat', u'pages/YB-Masir-Kujat/235333126676906'),\n",
       " (u'Douglas Uggah Embas', u'pages/Douglas-Uggah-Embas/167428696649138'),\n",
       " (u'Wong Ling Biu', u'lingbiu.andrewwong'),\n",
       " (u'Norah Abdul Rahman', u'people/Datuk-Norah-Abd-Rahman/100009456243105'),\n",
       " (u'Alice Lau Kiong Yieng', u'pages/Alice-Lau-Kiong-Yieng/216228058403393'),\n",
       " (u'Oscar Ling Chai Yew', u'oscar.ling.16'),\n",
       " (u'Joseph Entulu Belaun', u'JosephEntulu'),\n",
       " (u'Alexander Nanta Linggi', u'pages/Alexander-Nanta-Linggi/158394677663381'),\n",
       " (u'N Surendran A/L K Nagarajan', u'N.SurendranPKR')]"
      ]
     },
     "execution_count": 5,
     "metadata": {},
     "output_type": "execute_result"
    }
   ],
   "source": [
    "MP_Facebook"
   ]
  },
  {
   "cell_type": "code",
   "execution_count": 6,
   "metadata": {
    "collapsed": false
   },
   "outputs": [
    {
     "data": {
      "text/plain": [
       "100"
      ]
     },
     "execution_count": 6,
     "metadata": {},
     "output_type": "execute_result"
    }
   ],
   "source": [
    "len(MP_Facebook)"
   ]
  },
  {
   "cell_type": "code",
   "execution_count": null,
   "metadata": {
    "collapsed": true
   },
   "outputs": [],
   "source": []
  }
 ],
 "metadata": {
  "kernelspec": {
   "display_name": "Python 2",
   "language": "python",
   "name": "python2"
  },
  "language_info": {
   "codemirror_mode": {
    "name": "ipython",
    "version": 2
   },
   "file_extension": ".py",
   "mimetype": "text/x-python",
   "name": "python",
   "nbconvert_exporter": "python",
   "pygments_lexer": "ipython2",
   "version": "2.7.9"
  }
 },
 "nbformat": 4,
 "nbformat_minor": 0
}
