{
 "metadata": {
  "name": "",
  "signature": "sha256:a82de377ba3dd43e7f2aebaa74ebd06e5ca91359bc4457c5cf543c1a3ae745a9"
 },
 "nbformat": 3,
 "nbformat_minor": 0,
 "worksheets": []
}