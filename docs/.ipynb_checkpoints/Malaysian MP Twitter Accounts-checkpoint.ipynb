{
 "cells": [
  {
   "cell_type": "markdown",
   "metadata": {},
   "source": [
    "Let's get a list of all of our MPs first"
   ]
  },
  {
   "cell_type": "code",
   "execution_count": null,
   "metadata": {
    "collapsed": false
   },
   "outputs": [],
   "source": [
    "import requests\n",
    "import json\n",
    "\n",
    "#Dewan Rakyat MP Posts in Sinar Malaysia Popit Database\n",
    "\n",
    "dewan_rakyat_request = requests.get('https://sinar-malaysia.popit.mysociety.org/api/v0.1/organizations/53633b5a19ee29270d8a9ecf')\n",
    "\n",
    "posts = json.loads(dewan_rakyat_request.content)['result']['memberships']"
   ]
  },
  {
   "cell_type": "markdown",
   "metadata": {},
   "source": [
    "Now we will load up information on the MPs holding these posts"
   ]
  },
  {
   "cell_type": "code",
   "execution_count": null,
   "metadata": {
    "collapsed": false
   },
   "outputs": [],
   "source": [
    "MP_ids = []\n",
    "\n",
    "#Current MPs should not have any end dates\n",
    "for member in posts:\n",
    "    #db not always clean, making sure either no end_date or empty value\n",
    "    \n",
    "    if member.has_key('end_date'):\n",
    "        if member['end_date'] == '':\n",
    "            MP_ids.append(member['person_id'])\n",
    "            \n",
    "    if not member.has_key('end_date'):\n",
    "        MP_ids.append(member['person_id'])\n",
    "        \n",
    "#There are some bad data during automated import from GE13 results.\n",
    "#This will be cleaned up in a few weeks, but we check for duplicates just in case.\n",
    "#There should only ever be 1 person holding 1 post at a moment in time.\n",
    "\n",
    "def uniq(seq):\n",
    "    #http://www.peterbe.com/plog/uniqifiers-benchmark\n",
    "    seen = set()\n",
    "    seen_add = seen.add\n",
    "    return [ x for x in seq if not (x in seen or seen_add(x))]\n",
    "\n",
    "def person(person_id):\n",
    "    #Load up information of persons from Popit database\n",
    "    req = requests.get('https://sinar-malaysia.popit.mysociety.org/api/v0.1/persons/' + person_id)\n",
    "    return json.loads(req.content)['result']\n",
    "\n",
    "import datetime\n",
    "from dateutil import parser\n",
    "\n",
    "def age(str):\n",
    "    #calculate age based on date strings stored in Popit\n",
    "    born = parser.parse(str)\n",
    "    today = datetime.date.today()\n",
    "    age = today.year - born.year - ((today.month, today.day) < (born.month, born.day)) \n",
    "    return int(age)\n",
    "    \n",
    "MP_ids = uniq(MP_ids)\n",
    "\n",
    "#Pull down the data of current MPs from Popit Database\n",
    "MPs = []\n",
    "for id in MP_ids:\n",
    "    person_data = person(id)\n",
    "    if person_data.has_key('birth_date'):\n",
    "        if person_data['birth_date']:\n",
    "            #add current age in addition to the values in Popit\n",
    "            person_data['age'] = age(person_data['birth_date'])\n",
    "            MPs.append(person_data)\n",
    "    "
   ]
  },
  {
   "cell_type": "markdown",
   "metadata": {},
   "source": [
    "Fun with data!"
   ]
  },
  {
   "cell_type": "code",
   "execution_count": null,
   "metadata": {
    "collapsed": false
   },
   "outputs": [],
   "source": [
    "import numpy\n",
    "\n",
    "#list of ages\n",
    "ages = []\n",
    "for i in MPs:\n",
    "    ages.append(int(i['age']))\n",
    "    \n",
    "print numpy.median(ages)\n",
    "print numpy.max(ages)\n",
    "print numpy.min(ages)\n"
   ]
  },
  {
   "cell_type": "markdown",
   "metadata": {},
   "source": [
    "Pandas\n",
    "\n",
    "pandas is an open source, BSD-licensed library providing high-performance, easy-to-use data structures and data analysis tools for the Python programming language.\n",
    "\n",
    "If you're learning Python to work with data, it's worth getting used to this library, as it provides pretty much all you will need when working with data from importing and cleaning messy data, to exporting it, including working with very large data sets.\n",
    "\n",
    "A lot of the earlier work, such as cleaning, getting unique values etc. could be done easily with built-in functions of pandas as a DataFrame."
   ]
  },
  {
   "cell_type": "code",
   "execution_count": null,
   "metadata": {
    "collapsed": false
   },
   "outputs": [],
   "source": [
    "import pandas\n",
    "\n",
    "pandas.DataFrame(MPs)"
   ]
  },
  {
   "cell_type": "code",
   "execution_count": null,
   "metadata": {
    "collapsed": false
   },
   "outputs": [],
   "source": [
    "df = pandas.DataFrame(MPs)\n",
    "\n",
    "\n",
    "print df['age'].median()\n",
    "print df['age'].max()\n",
    "print df['age'].min()"
   ]
  },
  {
   "cell_type": "markdown",
   "metadata": {},
   "source": [
    "We could have dropped duplicates from bad data: \n",
    "\n",
    "df.drop_duplicates('id')\n",
    "\n",
    "Parse and set birth_date column as datetime to calculate age without parsing it manually:\n",
    "\n",
    "df['birth_date']= pandas.to_datetime(df['birth_date'])\n",
    "\n",
    "Best of all after cleaning up the data, we can easily export it to CSV format where it is more easily usable by normal users in spreadsheets or plotting charts."
   ]
  },
  {
   "cell_type": "code",
   "execution_count": null,
   "metadata": {
    "collapsed": false
   },
   "outputs": [],
   "source": [
    "MP_source = {'name':df['name'],'birth_date':df['birth_date'],'age':df['age']}"
   ]
  },
  {
   "cell_type": "code",
   "execution_count": null,
   "metadata": {
    "collapsed": false
   },
   "outputs": [],
   "source": [
    "MP_Names = pandas.DataFrame(MP_source, index=\"name\")\n",
    "\n",
    "MP_Names.sort('age')"
   ]
  },
  {
   "cell_type": "code",
   "execution_count": null,
   "metadata": {
    "collapsed": false
   },
   "outputs": [],
   "source": [
    "grouped = MP_Names.groupby('age')\n",
    "grouped.age.count().plot(kind='bar',figsize=(15,15))"
   ]
  },
  {
   "cell_type": "code",
   "execution_count": null,
   "metadata": {
    "collapsed": true
   },
   "outputs": [],
   "source": []
  },
  {
   "cell_type": "code",
   "execution_count": null,
   "metadata": {
    "collapsed": false
   },
   "outputs": [],
   "source": []
  }
 ],
 "metadata": {
  "kernelspec": {
   "display_name": "Python 2",
   "language": "python",
   "name": "python2"
  },
  "language_info": {
   "codemirror_mode": {
    "name": "ipython",
    "version": 2
   },
   "file_extension": ".py",
   "mimetype": "text/x-python",
   "name": "python",
   "nbconvert_exporter": "python",
   "pygments_lexer": "ipython2",
   "version": "2.7.9"
  }
 },
 "nbformat": 4,
 "nbformat_minor": 0
}
